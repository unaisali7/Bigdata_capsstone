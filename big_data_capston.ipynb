{
  "cells": [
    {
      "cell_type": "code",
      "source": [
        "from pyspark.sql import SparkSession\n",
        "from pyspark.ml.classification import LogisticRegression\n",
        "from pyspark.ml.feature import VectorAssembler, StandardScaler\n",
        "from pyspark.sql.functions import col\n",
        "\n",
        "# Initialize the Spark session\n",
        "spark = SparkSession.builder \\\n",
        "    .appName(\"DiabetesPrediction\") \\\n",
        "    .getOrCreate()\n"
      ],
      "metadata": {
        "id": "1MnzdCl9iR8o"
      },
      "execution_count": 2,
      "outputs": []
    },
    {
      "cell_type": "code",
      "source": [
        "# Load dataset\n",
        "data_path = \"/content/diabetes.csv\"\n",
        "data = spark.read.csv(data_path, header=True, inferSchema=True)\n",
        "\n",
        "# Display the first few rows\n",
        "data.show()\n"
      ],
      "metadata": {
        "colab": {
          "base_uri": "https://localhost:8080/"
        },
        "id": "s-lye6qFTqh7",
        "outputId": "03ba112d-5bad-42d1-911f-cbcfa4f46d39"
      },
      "execution_count": 3,
      "outputs": [
        {
          "output_type": "stream",
          "name": "stdout",
          "text": [
            "+-----------+-------+-------------+-------------+-------+----+------------------------+---+-------+\n",
            "|Pregnancies|Glucose|BloodPressure|SkinThickness|Insulin| BMI|DiabetesPedigreeFunction|Age|Outcome|\n",
            "+-----------+-------+-------------+-------------+-------+----+------------------------+---+-------+\n",
            "|          6|    148|           72|           35|      0|33.6|                   0.627| 50|      1|\n",
            "|          1|     85|           66|           29|      0|26.6|                   0.351| 31|      0|\n",
            "|          8|    183|           64|            0|      0|23.3|                   0.672| 32|      1|\n",
            "|          1|     89|           66|           23|     94|28.1|                   0.167| 21|      0|\n",
            "|          0|    137|           40|           35|    168|43.1|                   2.288| 33|      1|\n",
            "|          5|    116|           74|            0|      0|25.6|                   0.201| 30|      0|\n",
            "|          3|     78|           50|           32|     88|31.0|                   0.248| 26|      1|\n",
            "|         10|    115|            0|            0|      0|35.3|                   0.134| 29|      0|\n",
            "|          2|    197|           70|           45|    543|30.5|                   0.158| 53|      1|\n",
            "|          8|    125|           96|            0|      0| 0.0|                   0.232| 54|      1|\n",
            "|          4|    110|           92|            0|      0|37.6|                   0.191| 30|      0|\n",
            "|         10|    168|           74|            0|      0|38.0|                   0.537| 34|      1|\n",
            "|         10|    139|           80|            0|      0|27.1|                   1.441| 57|      0|\n",
            "|          1|    189|           60|           23|    846|30.1|                   0.398| 59|      1|\n",
            "|          5|    166|           72|           19|    175|25.8|                   0.587| 51|      1|\n",
            "|          7|    100|            0|            0|      0|30.0|                   0.484| 32|      1|\n",
            "|          0|    118|           84|           47|    230|45.8|                   0.551| 31|      1|\n",
            "|          7|    107|           74|            0|      0|29.6|                   0.254| 31|      1|\n",
            "|          1|    103|           30|           38|     83|43.3|                   0.183| 33|      0|\n",
            "|          1|    115|           70|           30|     96|34.6|                   0.529| 32|      1|\n",
            "+-----------+-------+-------------+-------------+-------+----+------------------------+---+-------+\n",
            "only showing top 20 rows\n",
            "\n"
          ]
        }
      ]
    },
    {
      "cell_type": "code",
      "source": [
        "# Summary statistics for numeric columns\n",
        "data.describe().show()\n"
      ],
      "metadata": {
        "colab": {
          "base_uri": "https://localhost:8080/"
        },
        "id": "KGoFt8aEuWVE",
        "outputId": "887e86e3-2b1f-4dfc-c7da-142c3c8edbff"
      },
      "execution_count": 4,
      "outputs": [
        {
          "output_type": "stream",
          "name": "stdout",
          "text": [
            "+-------+------------------+-----------------+------------------+------------------+------------------+------------------+------------------------+------------------+------------------+\n",
            "|summary|       Pregnancies|          Glucose|     BloodPressure|     SkinThickness|           Insulin|               BMI|DiabetesPedigreeFunction|               Age|           Outcome|\n",
            "+-------+------------------+-----------------+------------------+------------------+------------------+------------------+------------------------+------------------+------------------+\n",
            "|  count|               768|              768|               768|               768|               768|               768|                     768|               768|               768|\n",
            "|   mean|3.8450520833333335|     120.89453125|       69.10546875|20.536458333333332| 79.79947916666667|31.992578124999977|      0.4718763020833327|33.240885416666664|0.3489583333333333|\n",
            "| stddev|  3.36957806269887|31.97261819513622|19.355807170644777|15.952217567727642|115.24400235133803| 7.884160320375441|       0.331328595012775|11.760231540678689| 0.476951377242799|\n",
            "|    min|                 0|                0|                 0|                 0|                 0|               0.0|                   0.078|                21|                 0|\n",
            "|    max|                17|              199|               122|                99|               846|              67.1|                    2.42|                81|                 1|\n",
            "+-------+------------------+-----------------+------------------+------------------+------------------+------------------+------------------------+------------------+------------------+\n",
            "\n"
          ]
        }
      ]
    },
    {
      "cell_type": "code",
      "source": [
        "# Count unique values in each categorical column (if there are categorical features)\n",
        "for column in data.columns:\n",
        "    distinct_count = data.select(column).distinct().count()\n",
        "    print(f\"Column '{column}' has {distinct_count} unique values.\")\n"
      ],
      "metadata": {
        "colab": {
          "base_uri": "https://localhost:8080/"
        },
        "id": "qtv6_prkuyAo",
        "outputId": "1d7aafb3-b3b8-43cd-fc5e-837bdae1d187"
      },
      "execution_count": 6,
      "outputs": [
        {
          "output_type": "stream",
          "name": "stdout",
          "text": [
            "Column 'Pregnancies' has 17 unique values.\n",
            "Column 'Glucose' has 136 unique values.\n",
            "Column 'BloodPressure' has 47 unique values.\n",
            "Column 'SkinThickness' has 51 unique values.\n",
            "Column 'Insulin' has 186 unique values.\n",
            "Column 'BMI' has 248 unique values.\n",
            "Column 'DiabetesPedigreeFunction' has 517 unique values.\n",
            "Column 'Age' has 52 unique values.\n",
            "Column 'Outcome' has 2 unique values.\n"
          ]
        }
      ]
    },
    {
      "cell_type": "code",
      "source": [
        "# Sample data to visualize\n",
        "sample_data = data.sample(withReplacement=False, fraction=0.1).toPandas()\n",
        "\n",
        "# Visualize with matplotlib\n",
        "import matplotlib.pyplot as plt\n",
        "import seaborn as sns\n",
        "\n",
        "sns.histplot(sample_data['Age'])\n",
        "plt.show()\n"
      ],
      "metadata": {
        "colab": {
          "base_uri": "https://localhost:8080/",
          "height": 449
        },
        "id": "H-bOTj5rvG3Z",
        "outputId": "82d30541-e4cb-4b77-faf4-6ddce9ca2967"
      },
      "execution_count": 10,
      "outputs": [
        {
          "output_type": "display_data",
          "data": {
            "text/plain": [
              "<Figure size 640x480 with 1 Axes>"
            ],
            "image/png": "[encoded data removed]"
          },
          "metadata": {}
        }
      ]
    },
    {
      "cell_type": "code",
      "source": [
        "# Identify feature columns and the target\n",
        "feature_columns = [col_name for col_name in data.columns if col_name != 'Outcome']\n",
        "target_column = 'Outcome'\n",
        "\n",
        "# Assemble features into a single vector column\n",
        "vec_assembler = VectorAssembler(inputCols=feature_columns, outputCol=\"features\")\n",
        "data = vec_assembler.transform(data)\n",
        "\n",
        "# Scale the features\n",
        "scaler = StandardScaler(inputCol=\"features\", outputCol=\"scaled_features\")\n",
        "scaler_model = scaler.fit(data)\n",
        "data = scaler_model.transform(data)\n",
        "\n",
        "# Select only necessary columns for training\n",
        "data = data.select(col(\"scaled_features\").alias(\"features\"), col(target_column).cast(\"double\").alias(\"label\"))\n",
        "\n",
        "# Display processed data\n",
        "data.show()\n"
      ],
      "metadata": {
        "colab": {
          "base_uri": "https://localhost:8080/"
        },
        "id": "gX6tQOOKUEns",
        "outputId": "d7463400-ad57-4390-debe-011f0d3996b0"
      },
      "execution_count": null,
      "outputs": [
        {
          "output_type": "stream",
          "name": "stdout",
          "text": [
            "+--------------------+-----+\n",
            "|            features|label|\n",
            "+--------------------+-----+\n",
            "|[1.78063837321943...|  1.0|\n",
            "|[0.29677306220323...|  0.0|\n",
            "|[2.37418449762590...|  1.0|\n",
            "|[0.29677306220323...|  0.0|\n",
            "|[0.0,4.2849165233...|  1.0|\n",
            "|[1.48386531101619...|  0.0|\n",
            "|[0.89031918660971...|  1.0|\n",
            "|[2.96773062203238...|  0.0|\n",
            "|[0.59354612440647...|  1.0|\n",
            "|[2.37418449762590...|  1.0|\n",
            "|[1.18709224881295...|  0.0|\n",
            "|[2.96773062203238...|  1.0|\n",
            "|[2.96773062203238...|  0.0|\n",
            "|[0.29677306220323...|  1.0|\n",
            "|[1.48386531101619...|  1.0|\n",
            "|[2.07741143542266...|  1.0|\n",
            "|[0.0,3.6906580274...|  1.0|\n",
            "|[2.07741143542266...|  1.0|\n",
            "|[0.29677306220323...|  0.0|\n",
            "|[0.29677306220323...|  1.0|\n",
            "+--------------------+-----+\n",
            "only showing top 20 rows\n",
            "\n"
          ]
        }
      ]
    },
    {
      "cell_type": "code",
      "source": [
        "# Split data into training and testing sets\n",
        "train_data, test_data = data.randomSplit([0.7, 0.3], seed=123)\n"
      ],
      "metadata": {
        "id": "ZNi10HoKUknf"
      },
      "execution_count": null,
      "outputs": []
    },
    {
      "cell_type": "code",
      "source": [
        "# Initialize the Logistic Regression model\n",
        "lr = LogisticRegression(maxIter=100, regParam=0.01, elasticNetParam=0.5)\n",
        "\n",
        "# Train the model\n",
        "model = lr.fit(train_data)\n",
        "\n",
        "# Print the model coefficients\n",
        "print(\"Coefficients:\", model.coefficients)\n",
        "print(\"Intercept:\", model.intercept)\n"
      ],
      "metadata": {
        "colab": {
          "base_uri": "https://localhost:8080/"
        },
        "id": "5R046XxAUnwR",
        "outputId": "a0af7a43-0eaa-4815-d826-e42a94c5f56d"
      },
      "execution_count": null,
      "outputs": [
        {
          "output_type": "stream",
          "name": "stdout",
          "text": [
            "Coefficients: [0.38123794853394355,1.0890524276767768,-0.22087046332081522,-0.0339664558728538,0.0,0.578474008895178,0.2462916307554142,0.15189242967117803]\n",
            "Intercept: -7.633355410886892\n"
          ]
        }
      ]
    },
    {
      "cell_type": "code",
      "source": [
        "# Evaluate on test data\n",
        "predictions = model.transform(test_data)\n",
        "\n",
        "# Show sample predictions\n",
        "predictions.select(\"features\", \"label\", \"prediction\", \"probability\").show()\n",
        "\n",
        "# Evaluate accuracy\n",
        "accuracy = predictions.filter(col(\"prediction\") == col(\"label\")).count() / float(predictions.count())\n",
        "print(\"Accuracy:\", accuracy)\n"
      ],
      "metadata": {
        "colab": {
          "base_uri": "https://localhost:8080/"
        },
        "id": "7lMCXH7JUwuf",
        "outputId": "23e06ce1-5277-4f2d-a8e6-55381bf9575d"
      },
      "execution_count": null,
      "outputs": [
        {
          "output_type": "stream",
          "name": "stdout",
          "text": [
            "+--------------------+-----+----------+--------------------+\n",
            "|            features|label|prediction|         probability|\n",
            "+--------------------+-----+----------+--------------------+\n",
            "|(8,[0,1,6,7],[0.8...|  0.0|       0.0|[0.98456375210833...|\n",
            "|(8,[1,5,6,7],[2.2...|  0.0|       0.0|[0.95353896389384...|\n",
            "|(8,[1,5,6,7],[3.7...|  1.0|       0.0|[0.68738905632806...|\n",
            "|(8,[1,5,6,7],[4.4...|  1.0|       1.0|[0.30846755538396...|\n",
            "|(8,[1,5,6,7],[4.5...|  1.0|       1.0|[0.19507516837082...|\n",
            "|[0.0,2.3144804578...|  0.0|       0.0|[0.96096929489348...|\n",
            "|[0.0,2.8461854279...|  0.0|       0.0|[0.86344006641278...|\n",
            "|[0.0,2.9712924797...|  0.0|       0.0|[0.79934793962524...|\n",
            "|[0.0,2.9712924797...|  0.0|       0.0|[0.89538665658638...|\n",
            "|[0.0,3.0651227685...|  0.0|       0.0|[0.94821836928449...|\n",
            "|[0.0,3.1276762944...|  0.0|       0.0|[0.89152674435088...|\n",
            "|[0.0,3.1276762944...|  0.0|       0.0|[0.69206697610377...|\n",
            "|[0.0,3.1589530573...|  0.0|       0.0|[0.93872587784845...|\n",
            "|[0.0,3.1902298203...|  0.0|       0.0|[0.92966550526188...|\n",
            "|[0.0,3.2527833462...|  1.0|       0.0|[0.85463836360778...|\n",
            "|[0.0,3.2527833462...|  0.0|       0.0|[0.94410452847287...|\n",
            "|[0.0,3.3466136350...|  0.0|       0.0|[0.67091113428962...|\n",
            "|[0.0,3.4717206868...|  0.0|       0.0|[0.86969323388328...|\n",
            "|[0.0,3.5342742127...|  0.0|       0.0|[0.82286242916329...|\n",
            "|[0.0,3.5655509756...|  0.0|       0.0|[0.73490864277368...|\n",
            "+--------------------+-----+----------+--------------------+\n",
            "only showing top 20 rows\n",
            "\n",
            "Accuracy: 0.7838983050847458\n"
          ]
        }
      ]
    },
    {
      "cell_type": "code",
      "source": [
        "spark.stop()\n"
      ],
      "metadata": {
        "id": "ZgzgdMGLU5lw"
      },
      "execution_count": null,
      "outputs": []
    }
  ],
  "metadata": {
    "colab": {
      "provenance": []
    },
    "kernelspec": {
      "display_name": "Python 3",
      "name": "python3"
    },
    "language_info": {
      "name": "python"
    }
  },
  "nbformat": 4,
  "nbformat_minor": 0
}